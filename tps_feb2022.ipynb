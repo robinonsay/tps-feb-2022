{
 "cells": [
  {
   "cell_type": "markdown",
   "id": "0cd3d4ae-c46c-4af1-8f1d-2f875c17e230",
   "metadata": {},
   "source": [
    "# Tabular Playground Series -- February 2022"
   ]
  },
  {
   "cell_type": "code",
   "execution_count": null,
   "id": "bdbee72a-d907-4fc6-a76c-5805e409bd5d",
   "metadata": {},
   "outputs": [],
   "source": []
  }
 ],
 "metadata": {
  "kernelspec": {
   "display_name": "Python 3 (ipykernel)",
   "language": "python",
   "name": "python3"
  },
  "language_info": {
   "codemirror_mode": {
    "name": "ipython",
    "version": 3
   },
   "file_extension": ".py",
   "mimetype": "text/x-python",
   "name": "python",
   "nbconvert_exporter": "python",
   "pygments_lexer": "ipython3",
   "version": "3.9.10"
  }
 },
 "nbformat": 4,
 "nbformat_minor": 5
}
