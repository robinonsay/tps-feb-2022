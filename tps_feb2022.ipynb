{
 "cells": [
  {
   "cell_type": "markdown",
   "metadata": {},
   "source": [
    "# Tabular Playground Series -- February 2022"
   ]
  },
  {
   "cell_type": "code",
   "execution_count": 1,
   "metadata": {
    "execution": {
     "iopub.execute_input": "2022-02-12T00:51:17.379673Z",
     "iopub.status.busy": "2022-02-12T00:51:17.378732Z",
     "iopub.status.idle": "2022-02-12T00:51:41.519333Z",
     "shell.execute_reply": "2022-02-12T00:51:41.518527Z",
     "shell.execute_reply.started": "2022-02-12T00:51:17.379575Z"
    }
   },
   "outputs": [],
   "source": [
    "import pandas as pd\n",
    "import numpy as np\n",
    "from sklearn.model_selection import train_test_split, GridSearchCV\n",
    "from sklearn.pipeline import Pipeline\n",
    "from sklearn.preprocessing import LabelEncoder, RobustScaler\n",
    "from xgboost import XGBClassifier\n",
    "\n",
    "seed = 3165\n",
    "bacteria_data = pd.read_csv('../input/tabular-playground-series-feb-2022/train.csv', index_col='row_id')"
   ]
  },
  {
   "cell_type": "code",
   "execution_count": 4,
   "metadata": {
    "execution": {
     "iopub.execute_input": "2022-02-12T00:51:41.586884Z",
     "iopub.status.busy": "2022-02-12T00:51:41.586676Z",
     "iopub.status.idle": "2022-02-12T00:51:42.340636Z",
     "shell.execute_reply": "2022-02-12T00:51:42.339867Z",
     "shell.execute_reply.started": "2022-02-12T00:51:41.586858Z"
    }
   },
   "outputs": [],
   "source": [
    "le = LabelEncoder()\n",
    "X = bacteria_data.drop(columns='target')\n",
    "y = le.fit_transform(bacteria_data.target)\n",
    "X_train, X_test, y_train, y_test = train_test_split(X, y, random_state=seed)"
   ]
  },
  {
   "cell_type": "code",
   "execution_count": 5,
   "metadata": {
    "execution": {
     "iopub.execute_input": "2022-02-12T00:51:42.342119Z",
     "iopub.status.busy": "2022-02-12T00:51:42.341713Z",
     "iopub.status.idle": "2022-02-12T00:51:42.347688Z",
     "shell.execute_reply": "2022-02-12T00:51:42.347064Z",
     "shell.execute_reply.started": "2022-02-12T00:51:42.342084Z"
    }
   },
   "outputs": [],
   "source": [
    "xgb_model = XGBClassifier(use_label_encoder=False,\n",
    "                          learning_rate=0.1,\n",
    "                          n_estimators=1000,\n",
    "                          tree_method='gpu_hist',\n",
    "                          random_state=seed)\n",
    "pipe = Pipeline([\n",
    "    ('scaler', RobustScaler()),\n",
    "    ('model', xgb_model)\n",
    "])"
   ]
  },
  {
   "cell_type": "code",
   "execution_count": 6,
   "metadata": {
    "execution": {
     "iopub.execute_input": "2022-02-12T00:51:42.349563Z",
     "iopub.status.busy": "2022-02-12T00:51:42.348722Z",
     "iopub.status.idle": "2022-02-12T01:36:00.372799Z",
     "shell.execute_reply": "2022-02-12T01:36:00.371949Z",
     "shell.execute_reply.started": "2022-02-12T00:51:42.349527Z"
    }
   },
   "outputs": [],
   "source": [
    "param_grid = {\n",
    "    'model__max_depth': [3, 4, 5, 6, 7, 8],\n",
    "    'model__min_split_loss': [0, 5, 10, 15, 20],\n",
    "    'model__min_child_weight': [0, 1, 2, 3],\n",
    "    'model__lambda': [0, 1, 2, 3],\n",
    "    'model__alpha': [0, 1, 2, 3]\n",
    "}\n",
    "grid = GridSearchCV(pipe, param_grid=param_grid,\n",
    "                    scoring='accuracy', n_jobs=-1,\n",
    "                    cv=5, refit=True)\n",
    "grid.fit(X_train, y_train)"
   ]
  },
  {
   "cell_type": "code",
   "execution_count": 7,
   "metadata": {
    "execution": {
     "iopub.execute_input": "2022-02-12T01:36:00.374961Z",
     "iopub.status.busy": "2022-02-12T01:36:00.374398Z",
     "iopub.status.idle": "2022-02-12T01:36:45.816515Z",
     "shell.execute_reply": "2022-02-12T01:36:45.815948Z",
     "shell.execute_reply.started": "2022-02-12T01:36:00.374924Z"
    }
   },
   "outputs": [],
   "source": [
    "print(f'Best Params: {grid.best_params_}')\n",
    "print(f'Best Score: {grid.best_score_}')\n",
    "print(f'Train Score: {grid.score(X_train, y_train)}')\n",
    "print(f'Test Score: {grid.score(X_test, y_test)}')"
   ]
  },
  {
   "cell_type": "code",
   "execution_count": 10,
   "metadata": {
    "execution": {
     "iopub.execute_input": "2022-02-12T01:45:39.354842Z",
     "iopub.status.busy": "2022-02-12T01:45:39.354012Z",
     "iopub.status.idle": "2022-02-12T01:47:29.215468Z",
     "shell.execute_reply": "2022-02-12T01:47:29.214807Z",
     "shell.execute_reply.started": "2022-02-12T01:45:39.354793Z"
    }
   },
   "outputs": [],
   "source": [
    "best_xgbm = grid.best_estimator_['model']\n",
    "best_xgbm.fit(X,y)"
   ]
  },
  {
   "cell_type": "code",
   "execution_count": 11,
   "metadata": {
    "execution": {
     "iopub.execute_input": "2022-02-12T01:51:24.843561Z",
     "iopub.status.busy": "2022-02-12T01:51:24.843023Z",
     "iopub.status.idle": "2022-02-12T01:51:59.057583Z",
     "shell.execute_reply": "2022-02-12T01:51:59.056808Z",
     "shell.execute_reply.started": "2022-02-12T01:51:24.843523Z"
    }
   },
   "outputs": [],
   "source": [
    "bacteria_test_data = pd.read_csv('../input/tabular-playground-series-feb-2022/test.csv', index_col='row_id')\n",
    "bacteria_test_data['target'] = le.inverse_transform(best_xgbm.predict(bacteria_test_data))\n",
    "bacteria_test_data['target'].to_csv('./submission.csv')"
   ]
  }
 ],
 "metadata": {
  "kernelspec": {
   "display_name": "Python 3 (ipykernel)",
   "language": "python",
   "name": "python3"
  },
  "language_info": {
   "codemirror_mode": {
    "name": "ipython",
    "version": 3
   },
   "file_extension": ".py",
   "mimetype": "text/x-python",
   "name": "python",
   "nbconvert_exporter": "python",
   "pygments_lexer": "ipython3",
   "version": "3.9.10"
  }
 },
 "nbformat": 4,
 "nbformat_minor": 4
}
