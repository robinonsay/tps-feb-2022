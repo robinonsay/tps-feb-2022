{
 "cells": [
  {
   "cell_type": "markdown",
   "id": "5c6164b8",
   "metadata": {
    "papermill": {
     "duration": 0.011737,
     "end_time": "2022-02-14T22:04:23.993768",
     "exception": false,
     "start_time": "2022-02-14T22:04:23.982031",
     "status": "completed"
    },
    "tags": []
   },
   "source": [
    "# Tabular Playground Series -- February 2022"
   ]
  },
  {
   "cell_type": "markdown",
   "id": "5c3c8a97",
   "metadata": {
    "papermill": {
     "duration": 0.009504,
     "end_time": "2022-02-14T22:04:24.015559",
     "exception": false,
     "start_time": "2022-02-14T22:04:24.006055",
     "status": "completed"
    },
    "tags": []
   },
   "source": [
    "## Import Training Data"
   ]
  },
  {
   "cell_type": "code",
   "execution_count": 1,
   "id": "5a9e6f22",
   "metadata": {
    "execution": {
     "iopub.execute_input": "2022-02-14T22:04:24.052434Z",
     "iopub.status.busy": "2022-02-14T22:04:24.051616Z",
     "iopub.status.idle": "2022-02-14T22:04:49.424775Z",
     "shell.execute_reply": "2022-02-14T22:04:49.425211Z",
     "shell.execute_reply.started": "2022-02-14T21:54:41.285007Z"
    },
    "papermill": {
     "duration": 25.4002,
     "end_time": "2022-02-14T22:04:49.425511",
     "exception": false,
     "start_time": "2022-02-14T22:04:24.025311",
     "status": "completed"
    },
    "tags": []
   },
   "outputs": [],
   "source": [
    "import pandas as pd\n",
    "import numpy as np\n",
    "from sklearn.model_selection import train_test_split, GridSearchCV\n",
    "from sklearn.metrics import accuracy_score\n",
    "from sklearn.pipeline import Pipeline\n",
    "from sklearn.preprocessing import LabelEncoder, FunctionTransformer\n",
    "from xgboost import XGBClassifier\n",
    "\n",
    "seed = 3165\n",
    "bacteria_data = pd.read_csv('../input/tabular-playground-series-feb-2022/train.csv', index_col='row_id')"
   ]
  },
  {
   "cell_type": "code",
   "execution_count": 2,
   "id": "e0f9eff5",
   "metadata": {
    "execution": {
     "iopub.execute_input": "2022-02-14T22:04:49.587469Z",
     "iopub.status.busy": "2022-02-14T22:04:49.586216Z",
     "iopub.status.idle": "2022-02-14T22:04:50.480633Z",
     "shell.execute_reply": "2022-02-14T22:04:50.481053Z",
     "shell.execute_reply.started": "2022-02-14T21:55:04.322556Z"
    },
    "papermill": {
     "duration": 1.045433,
     "end_time": "2022-02-14T22:04:50.481216",
     "exception": false,
     "start_time": "2022-02-14T22:04:49.435783",
     "status": "completed"
    },
    "tags": []
   },
   "outputs": [],
   "source": [
    "le = LabelEncoder()\n",
    "X = bacteria_data.drop(columns='target')\n",
    "MAX = np.max(np.abs(np.array(X)))\n",
    "y = le.fit_transform(bacteria_data.target)\n",
    "X_train, X_test, y_train, y_test = train_test_split(X, y, stratify=y, random_state=seed)"
   ]
  },
  {
   "cell_type": "markdown",
   "id": "8fc5a2f5",
   "metadata": {
    "papermill": {
     "duration": 0.009742,
     "end_time": "2022-02-14T22:04:50.501617",
     "exception": false,
     "start_time": "2022-02-14T22:04:50.491875",
     "status": "completed"
    },
    "tags": []
   },
   "source": [
    "## Custom Transform"
   ]
  },
  {
   "cell_type": "code",
   "execution_count": 3,
   "id": "218fc9de",
   "metadata": {
    "execution": {
     "iopub.execute_input": "2022-02-14T22:04:50.528047Z",
     "iopub.status.busy": "2022-02-14T22:04:50.526330Z",
     "iopub.status.idle": "2022-02-14T22:04:50.528720Z",
     "shell.execute_reply": "2022-02-14T22:04:50.529132Z",
     "shell.execute_reply.started": "2022-02-14T21:55:05.334260Z"
    },
    "papermill": {
     "duration": 0.01773,
     "end_time": "2022-02-14T22:04:50.529256",
     "exception": false,
     "start_time": "2022-02-14T22:04:50.511526",
     "status": "completed"
    },
    "tags": []
   },
   "outputs": [],
   "source": [
    "def binned_scaler_transform(X, y=None, *args, **kwargs):\n",
    "    return X / MAX\n",
    "\n",
    "def binned_scaler_inv_transform(X, y=None, *args, **kwargs):\n",
    "    return X * MAX"
   ]
  },
  {
   "cell_type": "markdown",
   "id": "350d58a5",
   "metadata": {
    "papermill": {
     "duration": 0.00959,
     "end_time": "2022-02-14T22:04:50.548764",
     "exception": false,
     "start_time": "2022-02-14T22:04:50.539174",
     "status": "completed"
    },
    "tags": []
   },
   "source": [
    "## Find Best Model"
   ]
  },
  {
   "cell_type": "code",
   "execution_count": 4,
   "id": "08411642",
   "metadata": {
    "execution": {
     "iopub.execute_input": "2022-02-14T22:04:50.573455Z",
     "iopub.status.busy": "2022-02-14T22:04:50.572622Z",
     "iopub.status.idle": "2022-02-14T22:04:50.575209Z",
     "shell.execute_reply": "2022-02-14T22:04:50.574784Z",
     "shell.execute_reply.started": "2022-02-14T21:55:05.341100Z"
    },
    "papermill": {
     "duration": 0.016754,
     "end_time": "2022-02-14T22:04:50.575313",
     "exception": false,
     "start_time": "2022-02-14T22:04:50.558559",
     "status": "completed"
    },
    "tags": []
   },
   "outputs": [],
   "source": [
    "params = {'use_label_encoder': False,\n",
    "          'random_state': seed,\n",
    "          'tree_method': 'gpu_hist',\n",
    "#           ''\n",
    "         }\n",
    "xgb_model = XGBClassifier(**params)\n",
    "pipe = Pipeline([\n",
    "    ('scaler', FunctionTransformer(func=binned_scaler_transform, inverse_func=binned_scaler_inv_transform)),\n",
    "    ('model', xgb_model)\n",
    "])"
   ]
  },
  {
   "cell_type": "code",
   "execution_count": 5,
   "id": "36ff10cc",
   "metadata": {
    "execution": {
     "iopub.execute_input": "2022-02-14T22:04:50.601085Z",
     "iopub.status.busy": "2022-02-14T22:04:50.600290Z",
     "iopub.status.idle": "2022-02-14T22:48:48.369666Z",
     "shell.execute_reply": "2022-02-14T22:48:48.369218Z",
     "shell.execute_reply.started": "2022-02-14T21:55:05.350612Z"
    },
    "papermill": {
     "duration": 2637.784782,
     "end_time": "2022-02-14T22:48:48.369792",
     "exception": false,
     "start_time": "2022-02-14T22:04:50.585010",
     "status": "completed"
    },
    "tags": []
   },
   "outputs": [
    {
     "name": "stdout",
     "output_type": "stream",
     "text": [
      "Fitting 5 folds for each of 36 candidates, totalling 180 fits\n"
     ]
    },
    {
     "name": "stderr",
     "output_type": "stream",
     "text": [
      "[Parallel(n_jobs=-1)]: Using backend LokyBackend with 2 concurrent workers.\n",
      "[Parallel(n_jobs=-1)]: Done  46 tasks      | elapsed: 12.5min\n",
      "[Parallel(n_jobs=-1)]: Done 180 out of 180 | elapsed: 43.7min finished\n"
     ]
    },
    {
     "data": {
      "text/plain": [
       "GridSearchCV(cv=5,\n",
       "             estimator=Pipeline(steps=[('scaler',\n",
       "                                        FunctionTransformer(func=<function binned_scaler_transform at 0x7f9694d37050>,\n",
       "                                                            inverse_func=<function binned_scaler_inv_transform at 0x7f9694d37170>)),\n",
       "                                       ('model',\n",
       "                                        XGBClassifier(base_score=None,\n",
       "                                                      booster=None,\n",
       "                                                      colsample_bylevel=None,\n",
       "                                                      colsample_bynode=None,\n",
       "                                                      colsample_bytree=None,\n",
       "                                                      enable_categorical=False,\n",
       "                                                      gamma=No...\n",
       "                                                      scale_pos_weight=None,\n",
       "                                                      subsample=None,\n",
       "                                                      tree_method='gpu_hist',\n",
       "                                                      use_label_encoder=False,\n",
       "                                                      validate_parameters=None,\n",
       "                                                      verbosity=None))]),\n",
       "             n_jobs=-1,\n",
       "             param_grid={'model__gamma': [0, 0.33, 0.66, 1],\n",
       "                         'model__learning_rate': [0.3], 'model__max_depth': [6],\n",
       "                         'model__n_estimators': [100],\n",
       "                         'model__reg_lambda': [0, 2.5, 5],\n",
       "                         'model__subsample': [0.25, 0.5, 1]},\n",
       "             scoring='accuracy', verbose=1)"
      ]
     },
     "execution_count": 5,
     "metadata": {},
     "output_type": "execute_result"
    }
   ],
   "source": [
    "param_grid = {\n",
    "    'model__n_estimators': [100],\n",
    "    'model__max_depth': [6],\n",
    "    'model__learning_rate': [0.3],\n",
    "    'model__subsample': [0.25, 0.5, 1],\n",
    "    'model__gamma': [0, 0.33, 0.66, 1],\n",
    "    'model__reg_lambda': [0, 2.5, 5]\n",
    "}\n",
    "fit_params = {\n",
    "    'model__eval_metric': 'mlogloss'\n",
    "}\n",
    "grid = GridSearchCV(pipe, param_grid=param_grid,\n",
    "                    scoring='accuracy', n_jobs=-1,\n",
    "                    cv=5, verbose=1, refit=True)\n",
    "grid.fit(X_train, y_train, **fit_params)"
   ]
  },
  {
   "cell_type": "code",
   "execution_count": 6,
   "id": "ec0cf268",
   "metadata": {
    "execution": {
     "iopub.execute_input": "2022-02-14T22:48:48.405641Z",
     "iopub.status.busy": "2022-02-14T22:48:48.404554Z",
     "iopub.status.idle": "2022-02-14T22:48:53.758293Z",
     "shell.execute_reply": "2022-02-14T22:48:53.759025Z",
     "shell.execute_reply.started": "2022-02-14T21:56:43.676565Z"
    },
    "papermill": {
     "duration": 5.376577,
     "end_time": "2022-02-14T22:48:53.759260",
     "exception": false,
     "start_time": "2022-02-14T22:48:48.382683",
     "status": "completed"
    },
    "tags": []
   },
   "outputs": [
    {
     "name": "stdout",
     "output_type": "stream",
     "text": [
      "Best Params: {'model__gamma': 0, 'model__learning_rate': 0.3, 'model__max_depth': 6, 'model__n_estimators': 100, 'model__reg_lambda': 0, 'model__subsample': 0.5}\n",
      "Best Score: 0.9834733333333334\n",
      "Train Score: 0.9953533333333333\n",
      "Test Score: 0.9857\n"
     ]
    }
   ],
   "source": [
    "print(f'Best Params: {grid.best_params_}')\n",
    "print(f'Best Score: {grid.best_score_}')\n",
    "print(f'Train Score: {grid.score(X_train, y_train)}')\n",
    "print(f'Test Score: {grid.score(X_test, y_test)}')"
   ]
  },
  {
   "cell_type": "markdown",
   "id": "9831ed69",
   "metadata": {
    "papermill": {
     "duration": 0.012977,
     "end_time": "2022-02-14T22:48:53.785466",
     "exception": false,
     "start_time": "2022-02-14T22:48:53.772489",
     "status": "completed"
    },
    "tags": []
   },
   "source": [
    "## Train on Complete Dataset and Predict Test Values"
   ]
  },
  {
   "cell_type": "code",
   "execution_count": 7,
   "id": "d180e204",
   "metadata": {
    "execution": {
     "iopub.execute_input": "2022-02-14T22:48:53.815229Z",
     "iopub.status.busy": "2022-02-14T22:48:53.814379Z",
     "iopub.status.idle": "2022-02-14T22:49:10.498249Z",
     "shell.execute_reply": "2022-02-14T22:49:10.498694Z",
     "shell.execute_reply.started": "2022-02-14T21:56:49.341393Z"
    },
    "papermill": {
     "duration": 16.700939,
     "end_time": "2022-02-14T22:49:10.498857",
     "exception": false,
     "start_time": "2022-02-14T22:48:53.797918",
     "status": "completed"
    },
    "tags": []
   },
   "outputs": [
    {
     "data": {
      "text/plain": [
       "Pipeline(steps=[('scaler',\n",
       "                 FunctionTransformer(func=<function binned_scaler_transform at 0x7f9694d37050>,\n",
       "                                     inverse_func=<function binned_scaler_inv_transform at 0x7f9694d37170>)),\n",
       "                ('model',\n",
       "                 XGBClassifier(base_score=0.5, booster='gbtree',\n",
       "                               colsample_bylevel=1, colsample_bynode=1,\n",
       "                               colsample_bytree=1, enable_categorical=False,\n",
       "                               gamma=0, gpu_id=0, importance_type=None,\n",
       "                               inte...ate=0.3,\n",
       "                               max_delta_step=0, max_depth=6,\n",
       "                               min_child_weight=1, missing=nan,\n",
       "                               monotone_constraints='()', n_estimators=100,\n",
       "                               n_jobs=2, num_parallel_tree=1,\n",
       "                               objective='multi:softprob', predictor='auto',\n",
       "                               random_state=3165, reg_alpha=0, reg_lambda=0,\n",
       "                               scale_pos_weight=None, subsample=0.5,\n",
       "                               tree_method='gpu_hist', use_label_encoder=False,\n",
       "                               validate_parameters=1, verbosity=None))])"
      ]
     },
     "execution_count": 7,
     "metadata": {},
     "output_type": "execute_result"
    }
   ],
   "source": [
    "best_xgbm = grid.best_estimator_\n",
    "best_xgbm.fit(X,y, **fit_params)"
   ]
  },
  {
   "cell_type": "code",
   "execution_count": 8,
   "id": "5e947eea",
   "metadata": {
    "execution": {
     "iopub.execute_input": "2022-02-14T22:49:10.529891Z",
     "iopub.status.busy": "2022-02-14T22:49:10.529291Z",
     "iopub.status.idle": "2022-02-14T22:49:24.561005Z",
     "shell.execute_reply": "2022-02-14T22:49:24.561437Z",
     "shell.execute_reply.started": "2022-02-14T21:57:05.105238Z"
    },
    "papermill": {
     "duration": 14.04956,
     "end_time": "2022-02-14T22:49:24.561606",
     "exception": false,
     "start_time": "2022-02-14T22:49:10.512046",
     "status": "completed"
    },
    "tags": []
   },
   "outputs": [],
   "source": [
    "bacteria_test_data = pd.read_csv('../input/tabular-playground-series-feb-2022/test.csv', index_col='row_id')\n",
    "bacteria_test_data['target'] = le.inverse_transform(best_xgbm.predict(bacteria_test_data))\n",
    "bacteria_test_data['target'].to_csv(f'./submission.csv')"
   ]
  }
 ],
 "metadata": {
  "kernelspec": {
   "display_name": "Python 3",
   "language": "python",
   "name": "python3"
  },
  "language_info": {
   "codemirror_mode": {
    "name": "ipython",
    "version": 3
   },
   "file_extension": ".py",
   "mimetype": "text/x-python",
   "name": "python",
   "nbconvert_exporter": "python",
   "pygments_lexer": "ipython3",
   "version": "3.7.12"
  },
  "papermill": {
   "default_parameters": {},
   "duration": 2709.936188,
   "end_time": "2022-02-14T22:49:25.890581",
   "environment_variables": {},
   "exception": null,
   "input_path": "__notebook__.ipynb",
   "output_path": "__notebook__.ipynb",
   "parameters": {},
   "start_time": "2022-02-14T22:04:15.954393",
   "version": "2.3.3"
  }
 },
 "nbformat": 4,
 "nbformat_minor": 5
}
