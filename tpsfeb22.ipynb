{
 "cells": [
  {
   "cell_type": "markdown",
   "id": "0f25374b",
   "metadata": {
    "papermill": {
     "duration": 0.010994,
     "end_time": "2022-02-15T12:09:44.257386",
     "exception": false,
     "start_time": "2022-02-15T12:09:44.246392",
     "status": "completed"
    },
    "tags": []
   },
   "source": [
    "# Tabular Playground Series -- February 2022"
   ]
  },
  {
   "cell_type": "markdown",
   "id": "d89d36cd",
   "metadata": {
    "papermill": {
     "duration": 0.009561,
     "end_time": "2022-02-15T12:09:44.277550",
     "exception": false,
     "start_time": "2022-02-15T12:09:44.267989",
     "status": "completed"
    },
    "tags": []
   },
   "source": [
    "## Import Training Data"
   ]
  },
  {
   "cell_type": "code",
   "execution_count": 1,
   "id": "ba5675c3",
   "metadata": {
    "execution": {
     "iopub.execute_input": "2022-02-15T12:09:44.302683Z",
     "iopub.status.busy": "2022-02-15T12:09:44.300990Z",
     "iopub.status.idle": "2022-02-15T12:10:10.638194Z",
     "shell.execute_reply": "2022-02-15T12:10:10.637574Z",
     "shell.execute_reply.started": "2022-02-14T21:54:41.285007Z"
    },
    "papermill": {
     "duration": 26.350942,
     "end_time": "2022-02-15T12:10:10.638351",
     "exception": false,
     "start_time": "2022-02-15T12:09:44.287409",
     "status": "completed"
    },
    "tags": []
   },
   "outputs": [],
   "source": [
    "import pandas as pd\n",
    "import numpy as np\n",
    "from sklearn.model_selection import train_test_split, GridSearchCV\n",
    "from sklearn.metrics import accuracy_score\n",
    "from sklearn.pipeline import Pipeline\n",
    "from sklearn.preprocessing import LabelEncoder, FunctionTransformer\n",
    "from xgboost import XGBClassifier\n",
    "\n",
    "seed = 3165\n",
    "bacteria_data = pd.read_csv('../input/tabular-playground-series-feb-2022/train.csv', index_col='row_id')"
   ]
  },
  {
   "cell_type": "code",
   "execution_count": 2,
   "id": "e3b0f88c",
   "metadata": {
    "execution": {
     "iopub.execute_input": "2022-02-15T12:10:10.792855Z",
     "iopub.status.busy": "2022-02-15T12:10:10.792273Z",
     "iopub.status.idle": "2022-02-15T12:10:11.682118Z",
     "shell.execute_reply": "2022-02-15T12:10:11.681631Z",
     "shell.execute_reply.started": "2022-02-14T21:55:04.322556Z"
    },
    "papermill": {
     "duration": 1.03364,
     "end_time": "2022-02-15T12:10:11.682255",
     "exception": false,
     "start_time": "2022-02-15T12:10:10.648615",
     "status": "completed"
    },
    "tags": []
   },
   "outputs": [],
   "source": [
    "le = LabelEncoder()\n",
    "X = bacteria_data.drop(columns='target')\n",
    "MAX = np.max(np.abs(np.array(X)))\n",
    "y = le.fit_transform(bacteria_data.target)\n",
    "X_train, X_test, y_train, y_test = train_test_split(X, y, stratify=y, random_state=seed)"
   ]
  },
  {
   "cell_type": "markdown",
   "id": "eb469fcf",
   "metadata": {
    "papermill": {
     "duration": 0.009732,
     "end_time": "2022-02-15T12:10:11.702337",
     "exception": false,
     "start_time": "2022-02-15T12:10:11.692605",
     "status": "completed"
    },
    "tags": []
   },
   "source": [
    "## Custom Transform"
   ]
  },
  {
   "cell_type": "code",
   "execution_count": 3,
   "id": "75d0af3d",
   "metadata": {
    "execution": {
     "iopub.execute_input": "2022-02-15T12:10:11.727356Z",
     "iopub.status.busy": "2022-02-15T12:10:11.726525Z",
     "iopub.status.idle": "2022-02-15T12:10:11.728289Z",
     "shell.execute_reply": "2022-02-15T12:10:11.728715Z",
     "shell.execute_reply.started": "2022-02-14T21:55:05.33426Z"
    },
    "papermill": {
     "duration": 0.016544,
     "end_time": "2022-02-15T12:10:11.728830",
     "exception": false,
     "start_time": "2022-02-15T12:10:11.712286",
     "status": "completed"
    },
    "tags": []
   },
   "outputs": [],
   "source": [
    "def binned_scaler_transform(X, y=None, *args, **kwargs):\n",
    "    return X / MAX\n",
    "\n",
    "def binned_scaler_inv_transform(X, y=None, *args, **kwargs):\n",
    "    return X * MAX"
   ]
  },
  {
   "cell_type": "markdown",
   "id": "48ec6cbf",
   "metadata": {
    "papermill": {
     "duration": 0.009627,
     "end_time": "2022-02-15T12:10:11.748359",
     "exception": false,
     "start_time": "2022-02-15T12:10:11.738732",
     "status": "completed"
    },
    "tags": []
   },
   "source": [
    "## Find Best Model"
   ]
  },
  {
   "cell_type": "code",
   "execution_count": 4,
   "id": "fdf74bb2",
   "metadata": {
    "execution": {
     "iopub.execute_input": "2022-02-15T12:10:11.772814Z",
     "iopub.status.busy": "2022-02-15T12:10:11.772311Z",
     "iopub.status.idle": "2022-02-15T12:10:11.775846Z",
     "shell.execute_reply": "2022-02-15T12:10:11.775417Z",
     "shell.execute_reply.started": "2022-02-14T21:55:05.3411Z"
    },
    "papermill": {
     "duration": 0.01756,
     "end_time": "2022-02-15T12:10:11.775958",
     "exception": false,
     "start_time": "2022-02-15T12:10:11.758398",
     "status": "completed"
    },
    "tags": []
   },
   "outputs": [],
   "source": [
    "params = {'use_label_encoder': False,\n",
    "          'random_state': seed,\n",
    "          'tree_method': 'gpu_hist',\n",
    "#           ''\n",
    "         }\n",
    "xgb_model = XGBClassifier(**params)\n",
    "pipe = Pipeline([\n",
    "    ('scaler', FunctionTransformer(func=binned_scaler_transform, inverse_func=binned_scaler_inv_transform)),\n",
    "    ('model', xgb_model)\n",
    "])"
   ]
  },
  {
   "cell_type": "code",
   "execution_count": 5,
   "id": "d93a64d9",
   "metadata": {
    "execution": {
     "iopub.execute_input": "2022-02-15T12:10:11.801352Z",
     "iopub.status.busy": "2022-02-15T12:10:11.800611Z",
     "iopub.status.idle": "2022-02-15T12:10:29.430101Z",
     "shell.execute_reply": "2022-02-15T12:10:29.429643Z",
     "shell.execute_reply.started": "2022-02-14T21:55:05.350612Z"
    },
    "papermill": {
     "duration": 17.644518,
     "end_time": "2022-02-15T12:10:29.430232",
     "exception": false,
     "start_time": "2022-02-15T12:10:11.785714",
     "status": "completed"
    },
    "tags": []
   },
   "outputs": [
    {
     "name": "stdout",
     "output_type": "stream",
     "text": [
      "Fitting 5 folds for each of 1 candidates, totalling 5 fits\n"
     ]
    },
    {
     "name": "stderr",
     "output_type": "stream",
     "text": [
      "[Parallel(n_jobs=-1)]: Using backend LokyBackend with 2 concurrent workers.\n",
      "[Parallel(n_jobs=-1)]: Done   5 out of   5 | elapsed:   14.9s finished\n"
     ]
    },
    {
     "data": {
      "text/plain": [
       "GridSearchCV(cv=5,\n",
       "             estimator=Pipeline(steps=[('scaler',\n",
       "                                        FunctionTransformer(func=<function binned_scaler_transform at 0x7ff4ebbd2050>,\n",
       "                                                            inverse_func=<function binned_scaler_inv_transform at 0x7ff4ebbd2170>)),\n",
       "                                       ('model',\n",
       "                                        XGBClassifier(base_score=None,\n",
       "                                                      booster=None,\n",
       "                                                      colsample_bylevel=None,\n",
       "                                                      colsample_bynode=None,\n",
       "                                                      colsample_bytree=None,\n",
       "                                                      enable_categorical=False,\n",
       "                                                      gamma=No...\n",
       "                                                      num_parallel_tree=None,\n",
       "                                                      predictor=None,\n",
       "                                                      random_state=3165,\n",
       "                                                      reg_alpha=None,\n",
       "                                                      reg_lambda=None,\n",
       "                                                      scale_pos_weight=None,\n",
       "                                                      subsample=None,\n",
       "                                                      tree_method='gpu_hist',\n",
       "                                                      use_label_encoder=False,\n",
       "                                                      validate_parameters=None,\n",
       "                                                      verbosity=None))]),\n",
       "             n_jobs=-1,\n",
       "             param_grid={'model__learning_rate': [0.1], 'model__max_depth': [6],\n",
       "                         'model__n_estimators': [1],\n",
       "                         'model__subsample': [0.5]},\n",
       "             scoring='accuracy', verbose=1)"
      ]
     },
     "execution_count": 5,
     "metadata": {},
     "output_type": "execute_result"
    }
   ],
   "source": [
    "param_grid = {\n",
    "#     'model__n_estimators': [5000],\n",
    "    'model__n_estimators': [1],\n",
    "    'model__max_depth': [6],\n",
    "    'model__learning_rate': [0.1],\n",
    "    'model__subsample': [0.5],\n",
    "#     'model__gamma': [0, 0.33, 0.66, 1],\n",
    "#     'model__reg_lambda': [0, 2.5, 5]\n",
    "}\n",
    "fit_params = {\n",
    "    'model__eval_metric': 'mlogloss'\n",
    "}\n",
    "grid = GridSearchCV(pipe, param_grid=param_grid,\n",
    "                    scoring='accuracy', n_jobs=-1,\n",
    "                    cv=5, verbose=1, refit=True)\n",
    "grid.fit(X_train, y_train, **fit_params)"
   ]
  },
  {
   "cell_type": "code",
   "execution_count": 6,
   "id": "937f8ee4",
   "metadata": {
    "execution": {
     "iopub.execute_input": "2022-02-15T12:10:29.470485Z",
     "iopub.status.busy": "2022-02-15T12:10:29.469266Z",
     "iopub.status.idle": "2022-02-15T12:10:30.542241Z",
     "shell.execute_reply": "2022-02-15T12:10:30.543054Z",
     "shell.execute_reply.started": "2022-02-14T21:56:43.676565Z"
    },
    "papermill": {
     "duration": 1.101081,
     "end_time": "2022-02-15T12:10:30.543229",
     "exception": false,
     "start_time": "2022-02-15T12:10:29.442148",
     "status": "completed"
    },
    "tags": []
   },
   "outputs": [
    {
     "name": "stdout",
     "output_type": "stream",
     "text": [
      "Best Params: {'model__learning_rate': 0.1, 'model__max_depth': 6, 'model__n_estimators': 1, 'model__subsample': 0.5}\n",
      "Best Score: 0.7097133333333333\n",
      "Train Score: 0.7205533333333334\n",
      "Test Score: 0.70924\n"
     ]
    }
   ],
   "source": [
    "print(f'Best Params: {grid.best_params_}')\n",
    "print(f'Best Score: {grid.best_score_}')\n",
    "print(f'Train Score: {grid.score(X_train, y_train)}')\n",
    "print(f'Test Score: {grid.score(X_test, y_test)}')"
   ]
  },
  {
   "cell_type": "markdown",
   "id": "2dda733b",
   "metadata": {
    "papermill": {
     "duration": 0.012322,
     "end_time": "2022-02-15T12:10:30.569875",
     "exception": false,
     "start_time": "2022-02-15T12:10:30.557553",
     "status": "completed"
    },
    "tags": []
   },
   "source": [
    "## Train on Complete Dataset and Predict Test Values"
   ]
  },
  {
   "cell_type": "code",
   "execution_count": 7,
   "id": "8e8046ba",
   "metadata": {
    "execution": {
     "iopub.execute_input": "2022-02-15T12:10:30.601655Z",
     "iopub.status.busy": "2022-02-15T12:10:30.600835Z",
     "iopub.status.idle": "2022-02-15T12:10:32.649330Z",
     "shell.execute_reply": "2022-02-15T12:10:32.649863Z",
     "shell.execute_reply.started": "2022-02-14T21:56:49.341393Z"
    },
    "papermill": {
     "duration": 2.067533,
     "end_time": "2022-02-15T12:10:32.650021",
     "exception": false,
     "start_time": "2022-02-15T12:10:30.582488",
     "status": "completed"
    },
    "tags": []
   },
   "outputs": [
    {
     "data": {
      "text/plain": [
       "Pipeline(steps=[('scaler',\n",
       "                 FunctionTransformer(func=<function binned_scaler_transform at 0x7ff4ebbd2050>,\n",
       "                                     inverse_func=<function binned_scaler_inv_transform at 0x7ff4ebbd2170>)),\n",
       "                ('model',\n",
       "                 XGBClassifier(base_score=0.5, booster='gbtree',\n",
       "                               colsample_bylevel=1, colsample_bynode=1,\n",
       "                               colsample_bytree=1, enable_categorical=False,\n",
       "                               gamma=0, gpu_id=0, importance_type=None,\n",
       "                               inte..._rate=0.1,\n",
       "                               max_delta_step=0, max_depth=6,\n",
       "                               min_child_weight=1, missing=nan,\n",
       "                               monotone_constraints='()', n_estimators=1,\n",
       "                               n_jobs=2, num_parallel_tree=1,\n",
       "                               objective='multi:softprob', predictor='auto',\n",
       "                               random_state=3165, reg_alpha=0, reg_lambda=1,\n",
       "                               scale_pos_weight=None, subsample=0.5,\n",
       "                               tree_method='gpu_hist', use_label_encoder=False,\n",
       "                               validate_parameters=1, verbosity=None))])"
      ]
     },
     "execution_count": 7,
     "metadata": {},
     "output_type": "execute_result"
    }
   ],
   "source": [
    "best_xgbm = grid.best_estimator_\n",
    "best_xgbm.fit(X,y, **fit_params)"
   ]
  },
  {
   "cell_type": "code",
   "execution_count": 8,
   "id": "9b1711a8",
   "metadata": {
    "execution": {
     "iopub.execute_input": "2022-02-15T12:10:32.679788Z",
     "iopub.status.busy": "2022-02-15T12:10:32.679241Z",
     "iopub.status.idle": "2022-02-15T12:10:44.915400Z",
     "shell.execute_reply": "2022-02-15T12:10:44.914869Z",
     "shell.execute_reply.started": "2022-02-14T21:57:05.105238Z"
    },
    "papermill": {
     "duration": 12.252812,
     "end_time": "2022-02-15T12:10:44.915532",
     "exception": false,
     "start_time": "2022-02-15T12:10:32.662720",
     "status": "completed"
    },
    "tags": []
   },
   "outputs": [],
   "source": [
    "bacteria_test_data = pd.read_csv('../input/tabular-playground-series-feb-2022/test.csv', index_col='row_id')\n",
    "bacteria_test_data['target'] = le.inverse_transform(best_xgbm.predict(bacteria_test_data))\n",
    "bacteria_test_data['target'].to_csv(f'./submission.csv')"
   ]
  }
 ],
 "metadata": {
  "kernelspec": {
   "display_name": "Python 3",
   "language": "python",
   "name": "python3"
  },
  "language_info": {
   "codemirror_mode": {
    "name": "ipython",
    "version": 3
   },
   "file_extension": ".py",
   "mimetype": "text/x-python",
   "name": "python",
   "nbconvert_exporter": "python",
   "pygments_lexer": "ipython3",
   "version": "3.7.12"
  },
  "papermill": {
   "default_parameters": {},
   "duration": 70.163106,
   "end_time": "2022-02-15T12:10:46.241517",
   "environment_variables": {},
   "exception": null,
   "input_path": "__notebook__.ipynb",
   "output_path": "__notebook__.ipynb",
   "parameters": {},
   "start_time": "2022-02-15T12:09:36.078411",
   "version": "2.3.3"
  }
 },
 "nbformat": 4,
 "nbformat_minor": 5
}
