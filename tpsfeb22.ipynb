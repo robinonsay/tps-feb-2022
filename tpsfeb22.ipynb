{
 "cells": [
  {
   "cell_type": "markdown",
   "id": "1b2509aa",
   "metadata": {
    "papermill": {
     "duration": 0.015465,
     "end_time": "2022-02-14T15:15:13.371346",
     "exception": false,
     "start_time": "2022-02-14T15:15:13.355881",
     "status": "completed"
    },
    "tags": []
   },
   "source": [
    "# Tabular Playground Series -- February 2022"
   ]
  },
  {
   "cell_type": "markdown",
   "id": "a54c15b7",
   "metadata": {
    "papermill": {
     "duration": 0.01275,
     "end_time": "2022-02-14T15:15:13.397858",
     "exception": false,
     "start_time": "2022-02-14T15:15:13.385108",
     "status": "completed"
    },
    "tags": []
   },
   "source": [
    "## Import Training Data"
   ]
  },
  {
   "cell_type": "code",
   "execution_count": 1,
   "id": "90e128ab",
   "metadata": {
    "execution": {
     "iopub.execute_input": "2022-02-14T15:15:13.439773Z",
     "iopub.status.busy": "2022-02-14T15:15:13.438776Z",
     "iopub.status.idle": "2022-02-14T15:15:41.316707Z",
     "shell.execute_reply": "2022-02-14T15:15:41.316022Z",
     "shell.execute_reply.started": "2022-02-14T15:04:11.846025Z"
    },
    "papermill": {
     "duration": 27.90577,
     "end_time": "2022-02-14T15:15:41.316934",
     "exception": false,
     "start_time": "2022-02-14T15:15:13.411164",
     "status": "completed"
    },
    "tags": []
   },
   "outputs": [],
   "source": [
    "import pandas as pd\n",
    "import numpy as np\n",
    "import matplotlib as mpl\n",
    "import matplotlib.pyplot as plt\n",
    "from sklearn.model_selection import train_test_split, GridSearchCV\n",
    "from sklearn.metrics import accuracy_score\n",
    "from sklearn.pipeline import Pipeline\n",
    "from sklearn.preprocessing import LabelEncoder, FunctionTransformer\n",
    "from xgboost import XGBClassifier\n",
    "\n",
    "seed = 3165\n",
    "bacteria_data = pd.read_csv('../input/tabular-playground-series-feb-2022/train.csv', index_col='row_id')"
   ]
  },
  {
   "cell_type": "code",
   "execution_count": 2,
   "id": "e0efc9f4",
   "metadata": {
    "execution": {
     "iopub.execute_input": "2022-02-14T15:15:41.524569Z",
     "iopub.status.busy": "2022-02-14T15:15:41.523099Z",
     "iopub.status.idle": "2022-02-14T15:15:42.533730Z",
     "shell.execute_reply": "2022-02-14T15:15:42.534268Z",
     "shell.execute_reply.started": "2022-02-14T15:04:37.735993Z"
    },
    "papermill": {
     "duration": 1.203989,
     "end_time": "2022-02-14T15:15:42.534448",
     "exception": false,
     "start_time": "2022-02-14T15:15:41.330459",
     "status": "completed"
    },
    "tags": []
   },
   "outputs": [],
   "source": [
    "le = LabelEncoder()\n",
    "X = bacteria_data.drop(columns='target')\n",
    "MAX = np.max(np.abs(np.array(X)))\n",
    "y = le.fit_transform(bacteria_data.target)\n",
    "X_train, X_test, y_train, y_test = train_test_split(X, y, stratify=y, random_state=seed)"
   ]
  },
  {
   "cell_type": "markdown",
   "id": "6983c448",
   "metadata": {
    "papermill": {
     "duration": 0.01189,
     "end_time": "2022-02-14T15:15:42.559532",
     "exception": false,
     "start_time": "2022-02-14T15:15:42.547642",
     "status": "completed"
    },
    "tags": []
   },
   "source": [
    "## Custom Transform"
   ]
  },
  {
   "cell_type": "code",
   "execution_count": 3,
   "id": "27411f41",
   "metadata": {
    "execution": {
     "iopub.execute_input": "2022-02-14T15:15:42.592410Z",
     "iopub.status.busy": "2022-02-14T15:15:42.590346Z",
     "iopub.status.idle": "2022-02-14T15:15:42.593162Z",
     "shell.execute_reply": "2022-02-14T15:15:42.593690Z",
     "shell.execute_reply.started": "2022-02-14T15:04:38.770257Z"
    },
    "papermill": {
     "duration": 0.021524,
     "end_time": "2022-02-14T15:15:42.593861",
     "exception": false,
     "start_time": "2022-02-14T15:15:42.572337",
     "status": "completed"
    },
    "tags": []
   },
   "outputs": [],
   "source": [
    "def binned_scaler_transform(X, y=None, *args, **kwargs):\n",
    "    return X / MAX\n",
    "\n",
    "def binned_scaler_inv_transform(X, y=None, *args, **kwargs):\n",
    "    return X * MAX"
   ]
  },
  {
   "cell_type": "markdown",
   "id": "a981c322",
   "metadata": {
    "papermill": {
     "duration": 0.012387,
     "end_time": "2022-02-14T15:15:42.619098",
     "exception": false,
     "start_time": "2022-02-14T15:15:42.606711",
     "status": "completed"
    },
    "tags": []
   },
   "source": [
    "## Find Best Model"
   ]
  },
  {
   "cell_type": "code",
   "execution_count": 4,
   "id": "f792d6fa",
   "metadata": {
    "execution": {
     "iopub.execute_input": "2022-02-14T15:15:42.652306Z",
     "iopub.status.busy": "2022-02-14T15:15:42.650841Z",
     "iopub.status.idle": "2022-02-14T15:15:42.654451Z",
     "shell.execute_reply": "2022-02-14T15:15:42.653927Z",
     "shell.execute_reply.started": "2022-02-14T15:04:51.342787Z"
    },
    "papermill": {
     "duration": 0.022724,
     "end_time": "2022-02-14T15:15:42.654603",
     "exception": false,
     "start_time": "2022-02-14T15:15:42.631879",
     "status": "completed"
    },
    "tags": []
   },
   "outputs": [],
   "source": [
    "params = {'use_label_encoder': False,\n",
    "          'random_state': seed,\n",
    "          'tree_method': 'gpu_hist',\n",
    "#           ''\n",
    "         }\n",
    "xgb_model = XGBClassifier(**params)\n",
    "pipe = Pipeline([\n",
    "    ('scaler', FunctionTransformer(func=binned_scaler_transform, inverse_func=binned_scaler_inv_transform)),\n",
    "    ('model', xgb_model)\n",
    "])"
   ]
  },
  {
   "cell_type": "code",
   "execution_count": 5,
   "id": "43765af1",
   "metadata": {
    "execution": {
     "iopub.execute_input": "2022-02-14T15:15:42.687265Z",
     "iopub.status.busy": "2022-02-14T15:15:42.686309Z",
     "iopub.status.idle": "2022-02-14T19:59:01.324081Z",
     "shell.execute_reply": "2022-02-14T19:59:01.324612Z",
     "shell.execute_reply.started": "2022-02-14T15:07:46.683868Z"
    },
    "papermill": {
     "duration": 16998.657678,
     "end_time": "2022-02-14T19:59:01.324811",
     "exception": false,
     "start_time": "2022-02-14T15:15:42.667133",
     "status": "completed"
    },
    "tags": []
   },
   "outputs": [
    {
     "name": "stdout",
     "output_type": "stream",
     "text": [
      "Fitting 5 folds for each of 9 candidates, totalling 45 fits\n"
     ]
    },
    {
     "name": "stderr",
     "output_type": "stream",
     "text": [
      "[Parallel(n_jobs=-1)]: Using backend LokyBackend with 2 concurrent workers.\n",
      "/opt/conda/lib/python3.7/site-packages/joblib/externals/loky/process_executor.py:705: UserWarning: A worker stopped while some jobs were given to the executor. This can be caused by a too short worker timeout or by a memory leak.\n",
      "  \"timeout or by a memory leak.\", UserWarning\n",
      "[Parallel(n_jobs=-1)]: Done  45 out of  45 | elapsed: 276.1min finished\n"
     ]
    },
    {
     "data": {
      "text/plain": [
       "GridSearchCV(cv=5,\n",
       "             estimator=Pipeline(steps=[('scaler',\n",
       "                                        FunctionTransformer(func=<function binned_scaler_transform at 0x7fdb33e49f80>,\n",
       "                                                            inverse_func=<function binned_scaler_inv_transform at 0x7fdb33a230e0>)),\n",
       "                                       ('model',\n",
       "                                        XGBClassifier(base_score=None,\n",
       "                                                      booster=None,\n",
       "                                                      colsample_bylevel=None,\n",
       "                                                      colsample_bynode=None,\n",
       "                                                      colsample_bytree=None,\n",
       "                                                      enable_categorical=False,\n",
       "                                                      gamma=No...\n",
       "                                                      num_parallel_tree=None,\n",
       "                                                      predictor=None,\n",
       "                                                      random_state=3165,\n",
       "                                                      reg_alpha=None,\n",
       "                                                      reg_lambda=None,\n",
       "                                                      scale_pos_weight=None,\n",
       "                                                      subsample=None,\n",
       "                                                      tree_method='gpu_hist',\n",
       "                                                      use_label_encoder=False,\n",
       "                                                      validate_parameters=None,\n",
       "                                                      verbosity=None))]),\n",
       "             n_jobs=-1,\n",
       "             param_grid={'model__learning_rate': [0.1, 0.25, 0.5],\n",
       "                         'model__max_depth': [5, 6, 7],\n",
       "                         'model__n_estimators': [5000]},\n",
       "             scoring='accuracy', verbose=1)"
      ]
     },
     "execution_count": 5,
     "metadata": {},
     "output_type": "execute_result"
    }
   ],
   "source": [
    "param_grid = {\n",
    "    'model__n_estimators': [5000],\n",
    "    'model__max_depth': [5, 6, 7],\n",
    "    'model__learning_rate': [0.1, 0.25, 0.5],\n",
    "#     'model__subsample': [0.5, 1],\n",
    "#     'model__gamma': [0, 0.25],\n",
    "#     'model__reg_lambda': [0, 5]\n",
    "}\n",
    "fit_params = {\n",
    "    'model__eval_metric': 'mlogloss'\n",
    "}\n",
    "grid = GridSearchCV(pipe, param_grid=param_grid,\n",
    "                    scoring='accuracy', n_jobs=-1,\n",
    "                    cv=5, verbose=1, refit=True)\n",
    "grid.fit(X_train, y_train, **fit_params)"
   ]
  },
  {
   "cell_type": "code",
   "execution_count": 6,
   "id": "ac0025a8",
   "metadata": {
    "execution": {
     "iopub.execute_input": "2022-02-14T19:59:01.368589Z",
     "iopub.status.busy": "2022-02-14T19:59:01.367255Z",
     "iopub.status.idle": "2022-02-14T20:03:18.503080Z",
     "shell.execute_reply": "2022-02-14T20:03:18.503892Z",
     "shell.execute_reply.started": "2022-02-14T15:04:38.792346Z"
    },
    "papermill": {
     "duration": 257.16436,
     "end_time": "2022-02-14T20:03:18.504254",
     "exception": false,
     "start_time": "2022-02-14T19:59:01.339894",
     "status": "completed"
    },
    "tags": []
   },
   "outputs": [
    {
     "name": "stdout",
     "output_type": "stream",
     "text": [
      "Best Params: {'model__learning_rate': 0.1, 'model__max_depth': 6, 'model__n_estimators': 5000}\n",
      "Best Score: 0.9914466666666668\n",
      "Train Score: 1.0\n",
      "Test Score: 0.99426\n"
     ]
    }
   ],
   "source": [
    "print(f'Best Params: {grid.best_params_}')\n",
    "print(f'Best Score: {grid.best_score_}')\n",
    "print(f'Train Score: {grid.score(X_train, y_train)}')\n",
    "print(f'Test Score: {grid.score(X_test, y_test)}')"
   ]
  },
  {
   "cell_type": "markdown",
   "id": "cac3efca",
   "metadata": {
    "papermill": {
     "duration": 0.020621,
     "end_time": "2022-02-14T20:03:18.545750",
     "exception": false,
     "start_time": "2022-02-14T20:03:18.525129",
     "status": "completed"
    },
    "tags": []
   },
   "source": [
    "## Train on Complete Dataset and Predict Test Values"
   ]
  },
  {
   "cell_type": "code",
   "execution_count": 7,
   "id": "ff828a93",
   "metadata": {
    "execution": {
     "iopub.execute_input": "2022-02-14T20:03:18.592572Z",
     "iopub.status.busy": "2022-02-14T20:03:18.591384Z",
     "iopub.status.idle": "2022-02-14T20:11:51.325696Z",
     "shell.execute_reply": "2022-02-14T20:11:51.326234Z",
     "shell.execute_reply.started": "2022-02-14T15:04:38.794432Z"
    },
    "papermill": {
     "duration": 512.759406,
     "end_time": "2022-02-14T20:11:51.326408",
     "exception": false,
     "start_time": "2022-02-14T20:03:18.567002",
     "status": "completed"
    },
    "tags": []
   },
   "outputs": [
    {
     "name": "stdout",
     "output_type": "stream",
     "text": [
      "[20:03:20] WARNING: ../src/learner.cc:1115: Starting in XGBoost 1.3.0, the default evaluation metric used with the objective 'multi:softprob' was changed from 'merror' to 'mlogloss'. Explicitly set eval_metric if you'd like to restore the old behavior.\n"
     ]
    },
    {
     "data": {
      "text/plain": [
       "XGBClassifier(base_score=0.5, booster='gbtree', colsample_bylevel=1,\n",
       "              colsample_bynode=1, colsample_bytree=1, enable_categorical=False,\n",
       "              gamma=0, gpu_id=0, importance_type=None,\n",
       "              interaction_constraints='', learning_rate=0.1, max_delta_step=0,\n",
       "              max_depth=6, min_child_weight=1, missing=nan,\n",
       "              monotone_constraints='()', n_estimators=5000, n_jobs=2,\n",
       "              num_parallel_tree=1, objective='multi:softprob', predictor='auto',\n",
       "              random_state=3165, reg_alpha=0, reg_lambda=1,\n",
       "              scale_pos_weight=None, subsample=1, tree_method='gpu_hist',\n",
       "              use_label_encoder=False, validate_parameters=1, verbosity=None)"
      ]
     },
     "execution_count": 7,
     "metadata": {},
     "output_type": "execute_result"
    }
   ],
   "source": [
    "best_xgbm = grid.best_estimator_['model']\n",
    "best_xgbm.fit(X,y)"
   ]
  },
  {
   "cell_type": "code",
   "execution_count": 8,
   "id": "03e3b0ed",
   "metadata": {
    "execution": {
     "iopub.execute_input": "2022-02-14T20:11:51.365450Z",
     "iopub.status.busy": "2022-02-14T20:11:51.364590Z",
     "iopub.status.idle": "2022-02-14T20:14:21.873051Z",
     "shell.execute_reply": "2022-02-14T20:14:21.871972Z",
     "shell.execute_reply.started": "2022-02-14T15:04:38.796196Z"
    },
    "papermill": {
     "duration": 150.530148,
     "end_time": "2022-02-14T20:14:21.873222",
     "exception": false,
     "start_time": "2022-02-14T20:11:51.343074",
     "status": "completed"
    },
    "tags": []
   },
   "outputs": [],
   "source": [
    "bacteria_test_data = pd.read_csv('../input/tabular-playground-series-feb-2022/test.csv', index_col='row_id')\n",
    "bacteria_test_data['target'] = le.inverse_transform(best_xgbm.predict(bacteria_test_data))\n",
    "bacteria_test_data['target'].to_csv(f'./submission.csv')"
   ]
  }
 ],
 "metadata": {
  "kernelspec": {
   "display_name": "Python 3",
   "language": "python",
   "name": "python3"
  },
  "language_info": {
   "codemirror_mode": {
    "name": "ipython",
    "version": 3
   },
   "file_extension": ".py",
   "mimetype": "text/x-python",
   "name": "python",
   "nbconvert_exporter": "python",
   "pygments_lexer": "ipython3",
   "version": "3.7.12"
  },
  "papermill": {
   "default_parameters": {},
   "duration": 17959.784386,
   "end_time": "2022-02-14T20:14:23.240657",
   "environment_variables": {},
   "exception": null,
   "input_path": "__notebook__.ipynb",
   "output_path": "__notebook__.ipynb",
   "parameters": {},
   "start_time": "2022-02-14T15:15:03.456271",
   "version": "2.3.3"
  }
 },
 "nbformat": 4,
 "nbformat_minor": 5
}
